{
  "nbformat": 4,
  "nbformat_minor": 0,
  "metadata": {
    "colab": {
      "name": "LSE based Linear Regression and Regularization.ipynb",
      "provenance": [],
      "authorship_tag": "ABX9TyOj7Jw1AHy2ZhDvriZ9yu6j",
      "include_colab_link": true
    },
    "kernelspec": {
      "name": "python3",
      "display_name": "Python 3"
    },
    "language_info": {
      "name": "python"
    }
  },
  "cells": [
    {
      "cell_type": "markdown",
      "metadata": {
        "id": "view-in-github",
        "colab_type": "text"
      },
      "source": [
        "<a href=\"https://colab.research.google.com/github/sahil301290/MachineLearning/blob/main/LSE_based_Linear_Regression_and_Regularization.ipynb\" target=\"_parent\"><img src=\"https://colab.research.google.com/assets/colab-badge.svg\" alt=\"Open In Colab\"/></a>"
      ]
    },
    {
      "cell_type": "markdown",
      "metadata": {
        "id": "WmfkLUGP1kAf"
      },
      "source": [
        "#Agenda\n",
        "###1. Least Square Error based Linear Regression\n",
        "###2. Ridge Regression (L2 Regularization) using Cross Validation\n",
        "###3. LASSO Regression (L1 Regularization) using Cross Validation"
      ]
    },
    {
      "cell_type": "markdown",
      "metadata": {
        "id": "hawNyB2Liarj"
      },
      "source": [
        "Least Square Error based Linear Regression"
      ]
    },
    {
      "cell_type": "code",
      "metadata": {
        "id": "TJYiozwagqkt",
        "colab": {
          "base_uri": "https://localhost:8080/",
          "height": 198
        },
        "outputId": "608dd7ec-d8ff-4545-e470-5dcfdf212818"
      },
      "source": [
        "import pandas as pd\n",
        "from sklearn.datasets import load_boston\n",
        "boston = load_boston()\n",
        "df = pd.DataFrame(data=boston.data, columns = ['CRIM', 'ZN', 'INDUS', 'CHAS', 'NOX', 'RM', 'AGE', 'DIS', 'RAD',\n",
        "        'TAX', 'PTRATIO', 'B', 'LSTAT'])\n",
        "df['target'] = boston.target\n",
        "df.head(5)"
      ],
      "execution_count": 1,
      "outputs": [
        {
          "output_type": "execute_result",
          "data": {
            "text/html": [
              "<div>\n",
              "<style scoped>\n",
              "    .dataframe tbody tr th:only-of-type {\n",
              "        vertical-align: middle;\n",
              "    }\n",
              "\n",
              "    .dataframe tbody tr th {\n",
              "        vertical-align: top;\n",
              "    }\n",
              "\n",
              "    .dataframe thead th {\n",
              "        text-align: right;\n",
              "    }\n",
              "</style>\n",
              "<table border=\"1\" class=\"dataframe\">\n",
              "  <thead>\n",
              "    <tr style=\"text-align: right;\">\n",
              "      <th></th>\n",
              "      <th>CRIM</th>\n",
              "      <th>ZN</th>\n",
              "      <th>INDUS</th>\n",
              "      <th>CHAS</th>\n",
              "      <th>NOX</th>\n",
              "      <th>RM</th>\n",
              "      <th>AGE</th>\n",
              "      <th>DIS</th>\n",
              "      <th>RAD</th>\n",
              "      <th>TAX</th>\n",
              "      <th>PTRATIO</th>\n",
              "      <th>B</th>\n",
              "      <th>LSTAT</th>\n",
              "      <th>target</th>\n",
              "    </tr>\n",
              "  </thead>\n",
              "  <tbody>\n",
              "    <tr>\n",
              "      <th>0</th>\n",
              "      <td>0.00632</td>\n",
              "      <td>18.0</td>\n",
              "      <td>2.31</td>\n",
              "      <td>0.0</td>\n",
              "      <td>0.538</td>\n",
              "      <td>6.575</td>\n",
              "      <td>65.2</td>\n",
              "      <td>4.0900</td>\n",
              "      <td>1.0</td>\n",
              "      <td>296.0</td>\n",
              "      <td>15.3</td>\n",
              "      <td>396.90</td>\n",
              "      <td>4.98</td>\n",
              "      <td>24.0</td>\n",
              "    </tr>\n",
              "    <tr>\n",
              "      <th>1</th>\n",
              "      <td>0.02731</td>\n",
              "      <td>0.0</td>\n",
              "      <td>7.07</td>\n",
              "      <td>0.0</td>\n",
              "      <td>0.469</td>\n",
              "      <td>6.421</td>\n",
              "      <td>78.9</td>\n",
              "      <td>4.9671</td>\n",
              "      <td>2.0</td>\n",
              "      <td>242.0</td>\n",
              "      <td>17.8</td>\n",
              "      <td>396.90</td>\n",
              "      <td>9.14</td>\n",
              "      <td>21.6</td>\n",
              "    </tr>\n",
              "    <tr>\n",
              "      <th>2</th>\n",
              "      <td>0.02729</td>\n",
              "      <td>0.0</td>\n",
              "      <td>7.07</td>\n",
              "      <td>0.0</td>\n",
              "      <td>0.469</td>\n",
              "      <td>7.185</td>\n",
              "      <td>61.1</td>\n",
              "      <td>4.9671</td>\n",
              "      <td>2.0</td>\n",
              "      <td>242.0</td>\n",
              "      <td>17.8</td>\n",
              "      <td>392.83</td>\n",
              "      <td>4.03</td>\n",
              "      <td>34.7</td>\n",
              "    </tr>\n",
              "    <tr>\n",
              "      <th>3</th>\n",
              "      <td>0.03237</td>\n",
              "      <td>0.0</td>\n",
              "      <td>2.18</td>\n",
              "      <td>0.0</td>\n",
              "      <td>0.458</td>\n",
              "      <td>6.998</td>\n",
              "      <td>45.8</td>\n",
              "      <td>6.0622</td>\n",
              "      <td>3.0</td>\n",
              "      <td>222.0</td>\n",
              "      <td>18.7</td>\n",
              "      <td>394.63</td>\n",
              "      <td>2.94</td>\n",
              "      <td>33.4</td>\n",
              "    </tr>\n",
              "    <tr>\n",
              "      <th>4</th>\n",
              "      <td>0.06905</td>\n",
              "      <td>0.0</td>\n",
              "      <td>2.18</td>\n",
              "      <td>0.0</td>\n",
              "      <td>0.458</td>\n",
              "      <td>7.147</td>\n",
              "      <td>54.2</td>\n",
              "      <td>6.0622</td>\n",
              "      <td>3.0</td>\n",
              "      <td>222.0</td>\n",
              "      <td>18.7</td>\n",
              "      <td>396.90</td>\n",
              "      <td>5.33</td>\n",
              "      <td>36.2</td>\n",
              "    </tr>\n",
              "  </tbody>\n",
              "</table>\n",
              "</div>"
            ],
            "text/plain": [
              "      CRIM    ZN  INDUS  CHAS    NOX  ...    TAX  PTRATIO       B  LSTAT  target\n",
              "0  0.00632  18.0   2.31   0.0  0.538  ...  296.0     15.3  396.90   4.98    24.0\n",
              "1  0.02731   0.0   7.07   0.0  0.469  ...  242.0     17.8  396.90   9.14    21.6\n",
              "2  0.02729   0.0   7.07   0.0  0.469  ...  242.0     17.8  392.83   4.03    34.7\n",
              "3  0.03237   0.0   2.18   0.0  0.458  ...  222.0     18.7  394.63   2.94    33.4\n",
              "4  0.06905   0.0   2.18   0.0  0.458  ...  222.0     18.7  396.90   5.33    36.2\n",
              "\n",
              "[5 rows x 14 columns]"
            ]
          },
          "metadata": {
            "tags": []
          },
          "execution_count": 1
        }
      ]
    },
    {
      "cell_type": "code",
      "metadata": {
        "colab": {
          "base_uri": "https://localhost:8080/",
          "height": 548
        },
        "id": "JyG6K19lh4Rn",
        "outputId": "e7cc2f85-16f5-44cf-a601-f1c00bccbb44"
      },
      "source": [
        "import missingno as ms\n",
        "ms.bar(df)"
      ],
      "execution_count": 2,
      "outputs": [
        {
          "output_type": "execute_result",
          "data": {
            "text/plain": [
              "<matplotlib.axes._subplots.AxesSubplot at 0x7f92db5b0cd0>"
            ]
          },
          "metadata": {
            "tags": []
          },
          "execution_count": 2
        },
        {
          "output_type": "display_data",
          "data": {
            "image/png": "[encoded data removed]",
            "text/plain": [
              "<Figure size 1728x720 with 3 Axes>"
            ]
          },
          "metadata": {
            "tags": [],
            "needs_background": "light"
          }
        }
      ]
    },
    {
      "cell_type": "code",
      "metadata": {
        "colab": {
          "base_uri": "https://localhost:8080/",
          "height": 613
        },
        "id": "PMr0b2cdh9Vx",
        "outputId": "ad2eff1e-69aa-45fd-f897-98fd95aaae82"
      },
      "source": [
        "import seaborn as sns\n",
        "import matplotlib.pyplot as plt\n",
        "fig, ax = plt.subplots(figsize=(15,10))\n",
        "sns.heatmap(df.iloc[:,0:13].corr(),annot=True, linewidths=.5, ax=ax)"
      ],
      "execution_count": 3,
      "outputs": [
        {
          "output_type": "execute_result",
          "data": {
            "text/plain": [
              "<matplotlib.axes._subplots.AxesSubplot at 0x7f92d23d7050>"
            ]
          },
          "metadata": {
            "tags": []
          },
          "execution_count": 3
        },
        {
          "output_type": "display_data",
          "data": {
            "image/png": "[encoded data removed]",
            "text/plain": [
              "<Figure size 1080x720 with 2 Axes>"
            ]
          },
          "metadata": {
            "tags": [],
            "needs_background": "light"
          }
        }
      ]
    },
    {
      "cell_type": "code",
      "metadata": {
        "id": "ZHw-X5x5h_AZ"
      },
      "source": [
        "import numpy as np\n",
        "X=df.iloc[:,0:13]\n",
        "Y=df.iloc[:,13]\n",
        "Y=np.array(Y)\n",
        "Y=Y.reshape(-1,1)"
      ],
      "execution_count": 4,
      "outputs": []
    },
    {
      "cell_type": "code",
      "metadata": {
        "id": "fCD-k-msiArA"
      },
      "source": [
        "from sklearn.preprocessing import StandardScaler\n",
        "scaler=StandardScaler()\n",
        "X_scaled=scaler.fit_transform(X)\n",
        "X_scaled= np.insert(X_scaled, 0, values=1, axis=1)"
      ],
      "execution_count": 5,
      "outputs": []
    },
    {
      "cell_type": "code",
      "metadata": {
        "colab": {
          "base_uri": "https://localhost:8080/"
        },
        "id": "lHd1qtyIiCXw",
        "outputId": "abc7c83e-baad-4cee-e066-97fd34d82c4a"
      },
      "source": [
        "X_scaled"
      ],
      "execution_count": 6,
      "outputs": [
        {
          "output_type": "execute_result",
          "data": {
            "text/plain": [
              "array([[ 1.        , -0.41978194,  0.28482986, ..., -1.45900038,\n",
              "         0.44105193, -1.0755623 ],\n",
              "       [ 1.        , -0.41733926, -0.48772236, ..., -0.30309415,\n",
              "         0.44105193, -0.49243937],\n",
              "       [ 1.        , -0.41734159, -0.48772236, ..., -0.30309415,\n",
              "         0.39642699, -1.2087274 ],\n",
              "       ...,\n",
              "       [ 1.        , -0.41344658, -0.48772236, ...,  1.17646583,\n",
              "         0.44105193, -0.98304761],\n",
              "       [ 1.        , -0.40776407, -0.48772236, ...,  1.17646583,\n",
              "         0.4032249 , -0.86530163],\n",
              "       [ 1.        , -0.41500016, -0.48772236, ...,  1.17646583,\n",
              "         0.44105193, -0.66905833]])"
            ]
          },
          "metadata": {
            "tags": []
          },
          "execution_count": 6
        }
      ]
    },
    {
      "cell_type": "code",
      "metadata": {
        "id": "YsnzE0PhiEJl"
      },
      "source": [
        "from sklearn.model_selection import train_test_split\n",
        "X_train, X_test, y_train, y_test = train_test_split(X_scaled, Y, test_size=0.3, random_state=42)"
      ],
      "execution_count": 7,
      "outputs": []
    },
    {
      "cell_type": "code",
      "metadata": {
        "colab": {
          "base_uri": "https://localhost:8080/"
        },
        "id": "IjPGrAXMiG3d",
        "outputId": "3c7f1902-1155-49b0-c314-37478c06ca25"
      },
      "source": [
        "print(X_train.shape)\n",
        "print(X_test.shape)\n",
        "print(y_train.shape)\n",
        "print(y_test.shape)"
      ],
      "execution_count": 8,
      "outputs": [
        {
          "output_type": "stream",
          "text": [
            "(354, 14)\n",
            "(152, 14)\n",
            "(354, 1)\n",
            "(152, 1)\n"
          ],
          "name": "stdout"
        }
      ]
    },
    {
      "cell_type": "code",
      "metadata": {
        "colab": {
          "base_uri": "https://localhost:8080/"
        },
        "id": "fUox5x4FiIOx",
        "outputId": "5b7c5f5f-420e-48b1-ff90-447f76b4f954"
      },
      "source": [
        "A=X_train.T.dot(X_train)\n",
        "B=np.linalg.inv(A)\n",
        "C=B.dot(X_train.T)\n",
        "beta=C.dot(y_train)\n",
        "print(beta)"
      ],
      "execution_count": 9,
      "outputs": [
        {
          "output_type": "stream",
          "text": [
            "[[22.50945471]\n",
            " [-1.14691411]\n",
            " [ 0.83432605]\n",
            " [ 0.33940694]\n",
            " [ 0.79163612]\n",
            " [-1.784727  ]\n",
            " [ 2.84783949]\n",
            " [-0.30429306]\n",
            " [-2.91562521]\n",
            " [ 2.11140045]\n",
            " [-1.46519951]\n",
            " [-1.9696347 ]\n",
            " [ 1.07567771]\n",
            " [-3.90310727]]\n"
          ],
          "name": "stdout"
        }
      ]
    },
    {
      "cell_type": "code",
      "metadata": {
        "colab": {
          "base_uri": "https://localhost:8080/"
        },
        "id": "uBh8ErIwiKJ6",
        "outputId": "f130fa74-c9e6-4a75-811f-54d9a11972e9"
      },
      "source": [
        "y_predict=X_test.dot(beta)\n",
        "#print(y_predict)\n",
        "print(len(y_predict))"
      ],
      "execution_count": 10,
      "outputs": [
        {
          "output_type": "stream",
          "text": [
            "152\n"
          ],
          "name": "stdout"
        }
      ]
    },
    {
      "cell_type": "code",
      "metadata": {
        "colab": {
          "base_uri": "https://localhost:8080/"
        },
        "id": "h37CiEIOiMJj",
        "outputId": "54cfa084-2239-44bd-d3cd-0ba258073683"
      },
      "source": [
        "error=y_test-y_predict\n",
        "square_error=np.power(error,2)\n",
        "sum_square_error=np.sum(square_error)\n",
        "mean_square_error=sum_square_error/len(y_predict)\n",
        "print(mean_square_error)"
      ],
      "execution_count": 11,
      "outputs": [
        {
          "output_type": "stream",
          "text": [
            "21.51744423117733\n"
          ],
          "name": "stdout"
        }
      ]
    },
    {
      "cell_type": "code",
      "metadata": {
        "colab": {
          "base_uri": "https://localhost:8080/"
        },
        "id": "CbXHXpGriPG6",
        "outputId": "9cebf3da-ac78-4602-8d54-9b05d2d23e85"
      },
      "source": [
        "rms_error=np.sqrt(mean_square_error)\n",
        "print(rms_error)"
      ],
      "execution_count": 12,
      "outputs": [
        {
          "output_type": "stream",
          "text": [
            "4.638689926172834\n"
          ],
          "name": "stdout"
        }
      ]
    },
    {
      "cell_type": "code",
      "metadata": {
        "colab": {
          "base_uri": "https://localhost:8080/"
        },
        "id": "V6qoex8siQ0x",
        "outputId": "d0bf963d-3599-4d40-828a-76a55d7f26a9"
      },
      "source": [
        "y_mean=np.mean(y_test)\n",
        "total_variance=np.sum((y_test-y_mean)**2)\n",
        "r_square = 1-sum_square_error/total_variance\n",
        "print(r_square)"
      ],
      "execution_count": 13,
      "outputs": [
        {
          "output_type": "stream",
          "text": [
            "0.7112260057484916\n"
          ],
          "name": "stdout"
        }
      ]
    },
    {
      "cell_type": "markdown",
      "metadata": {
        "id": "1cPawLtJigdJ"
      },
      "source": [
        "Ridge Regression OR L2 Regularization"
      ]
    },
    {
      "cell_type": "code",
      "metadata": {
        "id": "lQHcLwKeiSfg"
      },
      "source": [
        "from sklearn.linear_model import Ridge\n",
        "#help(sklearn)"
      ],
      "execution_count": 14,
      "outputs": []
    },
    {
      "cell_type": "code",
      "metadata": {
        "colab": {
          "base_uri": "https://localhost:8080/"
        },
        "id": "navxLu3yiv06",
        "outputId": "7e131732-7164-4e41-d307-3209145a6cb4"
      },
      "source": [
        "ridge_model = Ridge(alpha=5)\n",
        "ridge_model.fit(X_train, y_train)"
      ],
      "execution_count": 15,
      "outputs": [
        {
          "output_type": "execute_result",
          "data": {
            "text/plain": [
              "Ridge(alpha=5, copy_X=True, fit_intercept=True, max_iter=None, normalize=False,\n",
              "      random_state=None, solver='auto', tol=0.001)"
            ]
          },
          "metadata": {
            "tags": []
          },
          "execution_count": 15
        }
      ]
    },
    {
      "cell_type": "code",
      "metadata": {
        "id": "xBgXms87i9W2"
      },
      "source": [
        "test_predictions = ridge_model.predict(X_test)"
      ],
      "execution_count": 16,
      "outputs": []
    },
    {
      "cell_type": "code",
      "metadata": {
        "id": "GtrSI-2djDdr"
      },
      "source": [
        "from sklearn.metrics import mean_absolute_error, mean_squared_error"
      ],
      "execution_count": 17,
      "outputs": []
    },
    {
      "cell_type": "code",
      "metadata": {
        "id": "HlbHTX_YjJiy"
      },
      "source": [
        "MAE = mean_absolute_error(y_test, test_predictions)"
      ],
      "execution_count": 18,
      "outputs": []
    },
    {
      "cell_type": "code",
      "metadata": {
        "id": "UHxFEr6P8PxF"
      },
      "source": [
        "MSE = mean_squared_error(y_test, test_predictions)\n",
        "RMSE = np.sqrt(MSE)"
      ],
      "execution_count": 19,
      "outputs": []
    },
    {
      "cell_type": "code",
      "metadata": {
        "id": "EzDnzyIj8ic7",
        "colab": {
          "base_uri": "https://localhost:8080/"
        },
        "outputId": "3a14d8d7-0981-42c4-b351-faa1d041ae2d"
      },
      "source": [
        "print(MAE)\n",
        "print(MSE)\n",
        "print(RMSE)"
      ],
      "execution_count": 20,
      "outputs": [
        {
          "output_type": "stream",
          "text": [
            "3.1544834861281092\n",
            "21.668988200965163\n",
            "4.654996047363001\n"
          ],
          "name": "stdout"
        }
      ]
    },
    {
      "cell_type": "markdown",
      "metadata": {
        "id": "Jaql1iu486Hs"
      },
      "source": [
        "Ridge Regression using cross validation"
      ]
    },
    {
      "cell_type": "code",
      "metadata": {
        "id": "uQzzvwec8wOJ"
      },
      "source": [
        "from sklearn.linear_model import RidgeCV"
      ],
      "execution_count": 21,
      "outputs": []
    },
    {
      "cell_type": "code",
      "metadata": {
        "id": "N0Z9-4v5-dYQ"
      },
      "source": [
        "ridge_cv_model = RidgeCV(alphas = (0.1, 1.0, 10.0),scoring = 'neg_mean_absolute_error')"
      ],
      "execution_count": 22,
      "outputs": []
    },
    {
      "cell_type": "code",
      "metadata": {
        "colab": {
          "base_uri": "https://localhost:8080/"
        },
        "id": "zzasOatL-tQI",
        "outputId": "68655d79-b170-4407-908d-f8d0aa2671b6"
      },
      "source": [
        "ridge_cv_model.fit(X_train, y_train)"
      ],
      "execution_count": 23,
      "outputs": [
        {
          "output_type": "execute_result",
          "data": {
            "text/plain": [
              "RidgeCV(alphas=array([ 0.1,  1. , 10. ]), cv=None, fit_intercept=True,\n",
              "        gcv_mode=None, normalize=False, scoring='neg_mean_absolute_error',\n",
              "        store_cv_values=False)"
            ]
          },
          "metadata": {
            "tags": []
          },
          "execution_count": 23
        }
      ]
    },
    {
      "cell_type": "code",
      "metadata": {
        "colab": {
          "base_uri": "https://localhost:8080/"
        },
        "id": "4f0HyYwY-zwn",
        "outputId": "55fdff2b-b03a-4e3a-c4b7-58fc4352d09a"
      },
      "source": [
        "ridge_cv_model.alpha_"
      ],
      "execution_count": 24,
      "outputs": [
        {
          "output_type": "execute_result",
          "data": {
            "text/plain": [
              "10.0"
            ]
          },
          "metadata": {
            "tags": []
          },
          "execution_count": 24
        }
      ]
    },
    {
      "cell_type": "code",
      "metadata": {
        "colab": {
          "base_uri": "https://localhost:8080/"
        },
        "id": "8h8n3-Mp-5VO",
        "outputId": "0d0c329e-d386-421c-852f-59a52b6db72d"
      },
      "source": [
        "from sklearn.metrics import SCORERS\n",
        "SCORERS.keys()"
      ],
      "execution_count": 25,
      "outputs": [
        {
          "output_type": "execute_result",
          "data": {
            "text/plain": [
              "dict_keys(['explained_variance', 'r2', 'max_error', 'neg_median_absolute_error', 'neg_mean_absolute_error', 'neg_mean_squared_error', 'neg_mean_squared_log_error', 'neg_root_mean_squared_error', 'neg_mean_poisson_deviance', 'neg_mean_gamma_deviance', 'accuracy', 'roc_auc', 'roc_auc_ovr', 'roc_auc_ovo', 'roc_auc_ovr_weighted', 'roc_auc_ovo_weighted', 'balanced_accuracy', 'average_precision', 'neg_log_loss', 'neg_brier_score', 'adjusted_rand_score', 'homogeneity_score', 'completeness_score', 'v_measure_score', 'mutual_info_score', 'adjusted_mutual_info_score', 'normalized_mutual_info_score', 'fowlkes_mallows_score', 'precision', 'precision_macro', 'precision_micro', 'precision_samples', 'precision_weighted', 'recall', 'recall_macro', 'recall_micro', 'recall_samples', 'recall_weighted', 'f1', 'f1_macro', 'f1_micro', 'f1_samples', 'f1_weighted', 'jaccard', 'jaccard_macro', 'jaccard_micro', 'jaccard_samples', 'jaccard_weighted'])"
            ]
          },
          "metadata": {
            "tags": []
          },
          "execution_count": 25
        }
      ]
    },
    {
      "cell_type": "code",
      "metadata": {
        "id": "3Zr3-nfw_Fzv"
      },
      "source": [
        "test_predictions = ridge_cv_model.predict(X_test)"
      ],
      "execution_count": 26,
      "outputs": []
    },
    {
      "cell_type": "code",
      "metadata": {
        "colab": {
          "base_uri": "https://localhost:8080/"
        },
        "id": "-BNRuARtAHPC",
        "outputId": "aea9d57a-0479-4db6-fca2-8c96256c88b4"
      },
      "source": [
        "MAE = mean_absolute_error(y_test, test_predictions)\n",
        "MSE = mean_squared_error(y_test, test_predictions)\n",
        "RMSE = np.sqrt(MSE)\n",
        "print(MSE)"
      ],
      "execution_count": 27,
      "outputs": [
        {
          "output_type": "stream",
          "text": [
            "21.807350504225713\n"
          ],
          "name": "stdout"
        }
      ]
    },
    {
      "cell_type": "code",
      "metadata": {
        "colab": {
          "base_uri": "https://localhost:8080/"
        },
        "id": "FLKWtZ4mAQwG",
        "outputId": "f64ead41-12b2-4ee7-d2bf-8d59519375e7"
      },
      "source": [
        "ridge_cv_model.coef_"
      ],
      "execution_count": 28,
      "outputs": [
        {
          "output_type": "execute_result",
          "data": {
            "text/plain": [
              "array([[ 0.        , -1.04040626,  0.66864277,  0.12846482,  0.83388741,\n",
              "        -1.49067193,  2.89287727, -0.32262973, -2.57086271,  1.49677766,\n",
              "        -0.95530252, -1.88328338,  1.04572559, -3.759766  ]])"
            ]
          },
          "metadata": {
            "tags": []
          },
          "execution_count": 28
        }
      ]
    },
    {
      "cell_type": "markdown",
      "metadata": {
        "id": "u7QVa5YaAtTI"
      },
      "source": [
        "LASSO - Least Absolute Shrinkage and Selection Operator"
      ]
    },
    {
      "cell_type": "code",
      "metadata": {
        "id": "21-MrTFgAgTJ"
      },
      "source": [
        "from sklearn.linear_model import LassoCV"
      ],
      "execution_count": 29,
      "outputs": []
    },
    {
      "cell_type": "code",
      "metadata": {
        "id": "beb6bZn7A1B-"
      },
      "source": [
        "lasso_cv_model = LassoCV(eps=0.1, n_alphas=100, cv = 5, max_iter=1000)"
      ],
      "execution_count": 30,
      "outputs": []
    },
    {
      "cell_type": "code",
      "metadata": {
        "colab": {
          "base_uri": "https://localhost:8080/"
        },
        "id": "9MNb8fBPBXdm",
        "outputId": "dc7cce79-3260-48a3-85bb-a8b7dc46988c"
      },
      "source": [
        "lasso_cv_model.fit(X_train, y_train)"
      ],
      "execution_count": 31,
      "outputs": [
        {
          "output_type": "stream",
          "text": [
            "/usr/local/lib/python3.7/dist-packages/sklearn/linear_model/_coordinate_descent.py:1088: DataConversionWarning: A column-vector y was passed when a 1d array was expected. Please change the shape of y to (n_samples, ), for example using ravel().\n",
            "  y = column_or_1d(y, warn=True)\n"
          ],
          "name": "stderr"
        },
        {
          "output_type": "execute_result",
          "data": {
            "text/plain": [
              "LassoCV(alphas=None, copy_X=True, cv=5, eps=0.1, fit_intercept=True,\n",
              "        max_iter=1000, n_alphas=100, n_jobs=None, normalize=False,\n",
              "        positive=False, precompute='auto', random_state=None,\n",
              "        selection='cyclic', tol=0.0001, verbose=False)"
            ]
          },
          "metadata": {
            "tags": []
          },
          "execution_count": 31
        }
      ]
    },
    {
      "cell_type": "code",
      "metadata": {
        "id": "aFNiw5xZBdPv"
      },
      "source": [
        "test_predictions = lasso_cv_model.predict(X_test)"
      ],
      "execution_count": 32,
      "outputs": []
    },
    {
      "cell_type": "code",
      "metadata": {
        "colab": {
          "base_uri": "https://localhost:8080/"
        },
        "id": "AYyIicaWB3ey",
        "outputId": "67e22eaa-2801-4d75-f803-555901f2a1a8"
      },
      "source": [
        "MAE = mean_absolute_error(y_test, test_predictions)\n",
        "MSE = mean_squared_error(y_test, test_predictions)\n",
        "RMSE = np.sqrt(MSE)\n",
        "print(MSE)"
      ],
      "execution_count": 33,
      "outputs": [
        {
          "output_type": "stream",
          "text": [
            "25.777713740899806\n"
          ],
          "name": "stdout"
        }
      ]
    },
    {
      "cell_type": "code",
      "metadata": {
        "colab": {
          "base_uri": "https://localhost:8080/"
        },
        "id": "POMa4VHwB7L8",
        "outputId": "94753f67-2090-4705-c09a-fcec00365224"
      },
      "source": [
        "lasso_cv_model.coef_"
      ],
      "execution_count": 34,
      "outputs": [
        {
          "output_type": "execute_result",
          "data": {
            "text/plain": [
              "array([ 0.        , -0.12635295,  0.        , -0.        ,  0.47671033,\n",
              "       -0.        ,  2.84044085, -0.        , -0.        , -0.        ,\n",
              "       -0.        , -1.37514121,  0.44851197, -3.76557211])"
            ]
          },
          "metadata": {
            "tags": []
          },
          "execution_count": 34
        }
      ]
    },
    {
      "cell_type": "code",
      "metadata": {
        "id": "ASh3_IQ1CZ6s"
      },
      "source": [
        ""
      ],
      "execution_count": 34,
      "outputs": []
    }
  ]
}