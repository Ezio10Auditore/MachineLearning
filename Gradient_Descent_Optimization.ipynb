{
  "nbformat": 4,
  "nbformat_minor": 0,
  "metadata": {
    "colab": {
      "name": "Gradient Descent Optimization.ipynb",
      "provenance": [],
      "authorship_tag": "ABX9TyOn1AxRtfREv2yjBadT+gNp",
      "include_colab_link": true
    },
    "kernelspec": {
      "name": "python3",
      "display_name": "Python 3"
    },
    "language_info": {
      "name": "python"
    }
  },
  "cells": [
    {
      "cell_type": "markdown",
      "metadata": {
        "id": "view-in-github",
        "colab_type": "text"
      },
      "source": [
        "<a href=\"https://colab.research.google.com/github/sahil301290/MachineLearning/blob/main/Gradient_Descent_Optimization.ipynb\" target=\"_parent\"><img src=\"https://colab.research.google.com/assets/colab-badge.svg\" alt=\"Open In Colab\"/></a>"
      ]
    },
    {
      "cell_type": "markdown",
      "metadata": {
        "id": "0hj7VjDsfpvH"
      },
      "source": [
        "###Gradient Descent Optimization based USA Housing Prediction"
      ]
    },
    {
      "cell_type": "markdown",
      "metadata": {
        "id": "Gwum4ErLgJ3T"
      },
      "source": [
        "Dataset: https://www.kaggle.com/vedavyasv/usa-housing"
      ]
    },
    {
      "cell_type": "markdown",
      "metadata": {
        "id": "8lA4E9_Sf0un"
      },
      "source": [
        "**Importing Libraries**"
      ]
    },
    {
      "cell_type": "code",
      "metadata": {
        "id": "Xub3-OJv0SW5"
      },
      "source": [
        "import numpy as np\n",
        "import pandas as pd"
      ],
      "execution_count": 1,
      "outputs": []
    },
    {
      "cell_type": "markdown",
      "metadata": {
        "id": "VjSreH1Qf_gy"
      },
      "source": [
        "Importing USA Housing CSV File"
      ]
    },
    {
      "cell_type": "code",
      "metadata": {
        "colab": {
          "base_uri": "https://localhost:8080/",
          "height": 194
        },
        "id": "rMBGqHBbf-hu",
        "outputId": "91a71dfa-1a5c-4488-be66-de818137b0a5"
      },
      "source": [
        "df = pd.read_csv(\"USA_Housing.csv\")\n",
        "df.head(5)"
      ],
      "execution_count": 2,
      "outputs": [
        {
          "output_type": "execute_result",
          "data": {
            "text/html": [
              "<div>\n",
              "<style scoped>\n",
              "    .dataframe tbody tr th:only-of-type {\n",
              "        vertical-align: middle;\n",
              "    }\n",
              "\n",
              "    .dataframe tbody tr th {\n",
              "        vertical-align: top;\n",
              "    }\n",
              "\n",
              "    .dataframe thead th {\n",
              "        text-align: right;\n",
              "    }\n",
              "</style>\n",
              "<table border=\"1\" class=\"dataframe\">\n",
              "  <thead>\n",
              "    <tr style=\"text-align: right;\">\n",
              "      <th></th>\n",
              "      <th>Avg. Area Income</th>\n",
              "      <th>Avg. Area House Age</th>\n",
              "      <th>Avg. Area Number of Rooms</th>\n",
              "      <th>Avg. Area Number of Bedrooms</th>\n",
              "      <th>Area Population</th>\n",
              "      <th>Price</th>\n",
              "      <th>Address</th>\n",
              "    </tr>\n",
              "  </thead>\n",
              "  <tbody>\n",
              "    <tr>\n",
              "      <th>0</th>\n",
              "      <td>79545.458574</td>\n",
              "      <td>5.682861</td>\n",
              "      <td>7.009188</td>\n",
              "      <td>4.09</td>\n",
              "      <td>23086.800503</td>\n",
              "      <td>1.059034e+06</td>\n",
              "      <td>208 Michael Ferry Apt. 674\\nLaurabury, NE 3701...</td>\n",
              "    </tr>\n",
              "    <tr>\n",
              "      <th>1</th>\n",
              "      <td>79248.642455</td>\n",
              "      <td>6.002900</td>\n",
              "      <td>6.730821</td>\n",
              "      <td>3.09</td>\n",
              "      <td>40173.072174</td>\n",
              "      <td>1.505891e+06</td>\n",
              "      <td>188 Johnson Views Suite 079\\nLake Kathleen, CA...</td>\n",
              "    </tr>\n",
              "    <tr>\n",
              "      <th>2</th>\n",
              "      <td>61287.067179</td>\n",
              "      <td>5.865890</td>\n",
              "      <td>8.512727</td>\n",
              "      <td>5.13</td>\n",
              "      <td>36882.159400</td>\n",
              "      <td>1.058988e+06</td>\n",
              "      <td>9127 Elizabeth Stravenue\\nDanieltown, WI 06482...</td>\n",
              "    </tr>\n",
              "    <tr>\n",
              "      <th>3</th>\n",
              "      <td>63345.240046</td>\n",
              "      <td>7.188236</td>\n",
              "      <td>5.586729</td>\n",
              "      <td>3.26</td>\n",
              "      <td>34310.242831</td>\n",
              "      <td>1.260617e+06</td>\n",
              "      <td>USS Barnett\\nFPO AP 44820</td>\n",
              "    </tr>\n",
              "    <tr>\n",
              "      <th>4</th>\n",
              "      <td>59982.197226</td>\n",
              "      <td>5.040555</td>\n",
              "      <td>7.839388</td>\n",
              "      <td>4.23</td>\n",
              "      <td>26354.109472</td>\n",
              "      <td>6.309435e+05</td>\n",
              "      <td>USNS Raymond\\nFPO AE 09386</td>\n",
              "    </tr>\n",
              "  </tbody>\n",
              "</table>\n",
              "</div>"
            ],
            "text/plain": [
              "   Avg. Area Income  ...                                            Address\n",
              "0      79545.458574  ...  208 Michael Ferry Apt. 674\\nLaurabury, NE 3701...\n",
              "1      79248.642455  ...  188 Johnson Views Suite 079\\nLake Kathleen, CA...\n",
              "2      61287.067179  ...  9127 Elizabeth Stravenue\\nDanieltown, WI 06482...\n",
              "3      63345.240046  ...                          USS Barnett\\nFPO AP 44820\n",
              "4      59982.197226  ...                         USNS Raymond\\nFPO AE 09386\n",
              "\n",
              "[5 rows x 7 columns]"
            ]
          },
          "metadata": {
            "tags": []
          },
          "execution_count": 2
        }
      ]
    },
    {
      "cell_type": "markdown",
      "metadata": {
        "id": "rNyXqGIxgf4i"
      },
      "source": [
        "**Exploratory Data Analysis**"
      ]
    },
    {
      "cell_type": "code",
      "metadata": {
        "colab": {
          "base_uri": "https://localhost:8080/",
          "height": 194
        },
        "id": "TqB7t1vmgn20",
        "outputId": "bb23520e-6e2d-415c-eef1-7c048e9ffcc9"
      },
      "source": [
        "X=df.iloc[:,0:5]\n",
        "X.head()"
      ],
      "execution_count": 3,
      "outputs": [
        {
          "output_type": "execute_result",
          "data": {
            "text/html": [
              "<div>\n",
              "<style scoped>\n",
              "    .dataframe tbody tr th:only-of-type {\n",
              "        vertical-align: middle;\n",
              "    }\n",
              "\n",
              "    .dataframe tbody tr th {\n",
              "        vertical-align: top;\n",
              "    }\n",
              "\n",
              "    .dataframe thead th {\n",
              "        text-align: right;\n",
              "    }\n",
              "</style>\n",
              "<table border=\"1\" class=\"dataframe\">\n",
              "  <thead>\n",
              "    <tr style=\"text-align: right;\">\n",
              "      <th></th>\n",
              "      <th>Avg. Area Income</th>\n",
              "      <th>Avg. Area House Age</th>\n",
              "      <th>Avg. Area Number of Rooms</th>\n",
              "      <th>Avg. Area Number of Bedrooms</th>\n",
              "      <th>Area Population</th>\n",
              "    </tr>\n",
              "  </thead>\n",
              "  <tbody>\n",
              "    <tr>\n",
              "      <th>0</th>\n",
              "      <td>79545.458574</td>\n",
              "      <td>5.682861</td>\n",
              "      <td>7.009188</td>\n",
              "      <td>4.09</td>\n",
              "      <td>23086.800503</td>\n",
              "    </tr>\n",
              "    <tr>\n",
              "      <th>1</th>\n",
              "      <td>79248.642455</td>\n",
              "      <td>6.002900</td>\n",
              "      <td>6.730821</td>\n",
              "      <td>3.09</td>\n",
              "      <td>40173.072174</td>\n",
              "    </tr>\n",
              "    <tr>\n",
              "      <th>2</th>\n",
              "      <td>61287.067179</td>\n",
              "      <td>5.865890</td>\n",
              "      <td>8.512727</td>\n",
              "      <td>5.13</td>\n",
              "      <td>36882.159400</td>\n",
              "    </tr>\n",
              "    <tr>\n",
              "      <th>3</th>\n",
              "      <td>63345.240046</td>\n",
              "      <td>7.188236</td>\n",
              "      <td>5.586729</td>\n",
              "      <td>3.26</td>\n",
              "      <td>34310.242831</td>\n",
              "    </tr>\n",
              "    <tr>\n",
              "      <th>4</th>\n",
              "      <td>59982.197226</td>\n",
              "      <td>5.040555</td>\n",
              "      <td>7.839388</td>\n",
              "      <td>4.23</td>\n",
              "      <td>26354.109472</td>\n",
              "    </tr>\n",
              "  </tbody>\n",
              "</table>\n",
              "</div>"
            ],
            "text/plain": [
              "   Avg. Area Income  ...  Area Population\n",
              "0      79545.458574  ...     23086.800503\n",
              "1      79248.642455  ...     40173.072174\n",
              "2      61287.067179  ...     36882.159400\n",
              "3      63345.240046  ...     34310.242831\n",
              "4      59982.197226  ...     26354.109472\n",
              "\n",
              "[5 rows x 5 columns]"
            ]
          },
          "metadata": {
            "tags": []
          },
          "execution_count": 3
        }
      ]
    },
    {
      "cell_type": "code",
      "metadata": {
        "colab": {
          "base_uri": "https://localhost:8080/"
        },
        "id": "lARkifBmgwTV",
        "outputId": "431ecb8c-9140-4042-cf7c-724083a7dfa0"
      },
      "source": [
        "y = df.iloc[:,5]\n",
        "y = np.array(y)\n",
        "y = y.reshape(-1,1)\n",
        "y"
      ],
      "execution_count": 4,
      "outputs": [
        {
          "output_type": "execute_result",
          "data": {
            "text/plain": [
              "array([[1059033.55787012],\n",
              "       [1505890.91484695],\n",
              "       [1058987.98787608],\n",
              "       ...,\n",
              "       [1030729.58315229],\n",
              "       [1198656.87240769],\n",
              "       [1298950.48026696]])"
            ]
          },
          "metadata": {
            "tags": []
          },
          "execution_count": 4
        }
      ]
    },
    {
      "cell_type": "markdown",
      "metadata": {
        "id": "jmqW4bnvhBmi"
      },
      "source": [
        "**Standard Normalization**"
      ]
    },
    {
      "cell_type": "code",
      "metadata": {
        "id": "AivoajQf05ON"
      },
      "source": [
        "from sklearn.preprocessing import StandardScaler\n",
        "scaler=StandardScaler()\n",
        "X_scaled=scaler.fit_transform(X)\n",
        "X_scaled= np.insert(X_scaled, 0, values=1, axis=1)"
      ],
      "execution_count": 5,
      "outputs": []
    },
    {
      "cell_type": "code",
      "metadata": {
        "colab": {
          "base_uri": "https://localhost:8080/"
        },
        "id": "NjGTZ2l4wUMy",
        "outputId": "18292768-086d-4f72-dcba-7801ee9adaae"
      },
      "source": [
        "X_scaled"
      ],
      "execution_count": 6,
      "outputs": [
        {
          "output_type": "execute_result",
          "data": {
            "text/plain": [
              "array([[ 1.        ,  1.02865969, -0.29692705,  0.02127433,  0.08806222,\n",
              "        -1.31759867],\n",
              "       [ 1.        ,  1.00080775,  0.02590164, -0.25550611, -0.72230146,\n",
              "         0.40399945],\n",
              "       [ 1.        , -0.68462916, -0.11230283,  1.5162435 ,  0.93084045,\n",
              "         0.07240989],\n",
              "       ...,\n",
              "       [ 1.        , -0.48723454,  1.28447022, -2.17026949, -1.50025059,\n",
              "        -0.29193658],\n",
              "       [ 1.        , -0.05459152, -0.44669439,  0.14154061,  1.18205319,\n",
              "         0.65111608],\n",
              "       [ 1.        , -0.28831272,  0.01521477, -0.19434166,  0.07185495,\n",
              "         1.04162464]])"
            ]
          },
          "metadata": {
            "tags": []
          },
          "execution_count": 6
        }
      ]
    },
    {
      "cell_type": "markdown",
      "metadata": {
        "id": "Ki8ZF-wpiCN0"
      },
      "source": [
        "**Train Test Split**"
      ]
    },
    {
      "cell_type": "code",
      "metadata": {
        "id": "euLdrGJY1IkO"
      },
      "source": [
        "from sklearn.model_selection import train_test_split\n",
        "X_train, X_test, y_train, y_test = train_test_split(X_scaled, y, test_size=0.3, random_state=42)"
      ],
      "execution_count": 7,
      "outputs": []
    },
    {
      "cell_type": "markdown",
      "metadata": {
        "id": "PSYk5YWriJGA"
      },
      "source": [
        "**Calculating Beta Vector**"
      ]
    },
    {
      "cell_type": "code",
      "metadata": {
        "id": "psXxFZSRzxgy"
      },
      "source": [
        "beta=np.zeros(6)\n",
        "number_of_iterations=1000\n",
        "learning_rate=0.01\n",
        "n = 5"
      ],
      "execution_count": 8,
      "outputs": []
    },
    {
      "cell_type": "code",
      "metadata": {
        "colab": {
          "base_uri": "https://localhost:8080/"
        },
        "id": "baE4ogWCz0Mc",
        "outputId": "da02cda8-b06b-4d97-d372-5a942226675f"
      },
      "source": [
        "for i in range(number_of_iterations):\n",
        "  x0_gradient=0\n",
        "  x1_gradient=0\n",
        "  x2_gradient=0\n",
        "  x3_gradient=0\n",
        "  x4_gradient=0\n",
        "  x5_gradient=0\n",
        "for j in range(len(X_train)):\n",
        "  a=X_train[j,0]\n",
        "  b=X_train[j,1]\n",
        "  c=X_train[j,2]\n",
        "  d=X_train[j,3]\n",
        "  e=X_train[j,4]\n",
        "  f=y_train[j]\n",
        "\n",
        "  x0_gradient+=(beta[0]+(beta[1]*a)+(beta[2]*b)+(beta[3]*c)+(beta[4]*d)+(beta[5]*e)-f)\n",
        "  x1_gradient+=((beta[0]+(beta[1]*a)+(beta[2]*b)+(beta[3]*c)+(beta[4]*d)+(beta[5]*e)-f)*a)\n",
        "  x2_gradient+=((beta[0]+(beta[1]*a)+(beta[2]*b)+(beta[3]*c)+(beta[4]*d)+(beta[5]*e)-f)*b)\n",
        "  x3_gradient+=((beta[0]+(beta[1]*a)+(beta[2]*b)+(beta[3]*c)+(beta[4]*d)+(beta[5]*e)-f)*c)\n",
        "  x4_gradient+=((beta[0]+(beta[1]*a)+(beta[2]*b)+(beta[3]*c)+(beta[4]*d)+(beta[5]*e)-f)*d)\n",
        "  x5_gradient+=((beta[0]+(beta[1]*a)+(beta[2]*b)+(beta[3]*c)+(beta[4]*d)+(beta[5]*e)-f)*e)\n",
        "  \n",
        "  beta[0]=beta[0]-learning_rate/n*x0_gradient\n",
        "  beta[1]=beta[1]-learning_rate/n*x1_gradient\n",
        "  beta[2]=beta[2]-learning_rate/n*x2_gradient\n",
        "  beta[3]=beta[3]-learning_rate/n*x3_gradient\n",
        "  beta[4]=beta[4]-learning_rate/n*x4_gradient\n",
        "  beta[5]=beta[5]-learning_rate/n*x5_gradient\n",
        "print(beta)"
      ],
      "execution_count": 9,
      "outputs": [
        {
          "output_type": "stream",
          "text": [
            "[-3.81440828e+09 -3.81440828e+09  1.73425386e+10 -2.19472274e+10\n",
            "  1.81090639e+10 -1.22054823e+10]\n"
          ],
          "name": "stdout"
        }
      ]
    },
    {
      "cell_type": "markdown",
      "metadata": {
        "id": "2GPEs9EqiUz_"
      },
      "source": [
        "**Predictions**"
      ]
    },
    {
      "cell_type": "code",
      "metadata": {
        "colab": {
          "base_uri": "https://localhost:8080/"
        },
        "id": "Yk2twDjC1Nor",
        "outputId": "16c788ed-c497-4d93-ab57-c317fef5f8c3"
      },
      "source": [
        "beta=np.array(beta).reshape(-1,1)\n",
        "print(beta.shape)\n",
        "y_predict=X_test.dot(beta)\n",
        "print(y_predict.shape)"
      ],
      "execution_count": 10,
      "outputs": [
        {
          "output_type": "stream",
          "text": [
            "(6, 1)\n",
            "(1500, 1)\n"
          ],
          "name": "stdout"
        }
      ]
    },
    {
      "cell_type": "code",
      "metadata": {
        "colab": {
          "base_uri": "https://localhost:8080/"
        },
        "id": "J8FumRQQ2NGP",
        "outputId": "bb08dbcf-baf9-4816-fe0b-6cd80b858518"
      },
      "source": [
        "y_predict"
      ],
      "execution_count": 11,
      "outputs": [
        {
          "output_type": "execute_result",
          "data": {
            "text/plain": [
              "array([[ 8.56833597e+09],\n",
              "       [-3.73029171e+09],\n",
              "       [-4.24440430e+09],\n",
              "       ...,\n",
              "       [-2.29267672e+10],\n",
              "       [-1.64960643e+10],\n",
              "       [-3.27646123e+10]])"
            ]
          },
          "metadata": {
            "tags": []
          },
          "execution_count": 11
        }
      ]
    },
    {
      "cell_type": "markdown",
      "metadata": {
        "id": "zruhRspniZ1v"
      },
      "source": [
        "**Metric-based evaluations**"
      ]
    },
    {
      "cell_type": "code",
      "metadata": {
        "id": "6fERz-ct3aTB",
        "colab": {
          "base_uri": "https://localhost:8080/"
        },
        "outputId": "932e948f-0bdd-47d1-e502-04351d2d0ff0"
      },
      "source": [
        "error=y_test-y_predict\n",
        "square_error=np.power(error,2)\n",
        "sum_square_error=np.sum(square_error)\n",
        "mean_square_error=sum_square_error/len(y_predict)\n",
        "print(mean_square_error)"
      ],
      "execution_count": 12,
      "outputs": [
        {
          "output_type": "stream",
          "text": [
            "9.88102376986474e+20\n"
          ],
          "name": "stdout"
        }
      ]
    },
    {
      "cell_type": "code",
      "metadata": {
        "id": "109KATcP3jI1",
        "colab": {
          "base_uri": "https://localhost:8080/"
        },
        "outputId": "4085670f-238d-465a-f11d-cc80ba12b465"
      },
      "source": [
        "rms_error=np.sqrt(mean_square_error)\n",
        "print(rms_error)"
      ],
      "execution_count": 13,
      "outputs": [
        {
          "output_type": "stream",
          "text": [
            "31434095771.732864\n"
          ],
          "name": "stdout"
        }
      ]
    },
    {
      "cell_type": "code",
      "metadata": {
        "id": "YRpuZwUx3l3h",
        "colab": {
          "base_uri": "https://localhost:8080/"
        },
        "outputId": "ac49b868-77d7-4aaf-d2b1-9a4fd1075671"
      },
      "source": [
        "y_mean=np.mean(y_test)\n",
        "total_variance=np.sum((y_test-y_mean)**2)\n",
        "r_square = (1-sum_square_error/total_variance)\n",
        "print(rms_error)"
      ],
      "execution_count": 14,
      "outputs": [
        {
          "output_type": "stream",
          "text": [
            "31434095771.732864\n"
          ],
          "name": "stdout"
        }
      ]
    },
    {
      "cell_type": "code",
      "metadata": {
        "id": "XwLmNuD4oyIj",
        "colab": {
          "base_uri": "https://localhost:8080/"
        },
        "outputId": "4a6b6b57-33e6-401c-a553-3be31985b934"
      },
      "source": [
        "N = len(y_predict) #N is the total sample size\n",
        "k = 5              #k is the number of predictors\n",
        "adj_r_sq = 1-(((1-r_square)*(N-1))/(N-k-1))\n",
        "print(adj_r_sq)"
      ],
      "execution_count": 15,
      "outputs": [
        {
          "output_type": "stream",
          "text": [
            "-8401038521.630934\n"
          ],
          "name": "stdout"
        }
      ]
    }
  ]
}