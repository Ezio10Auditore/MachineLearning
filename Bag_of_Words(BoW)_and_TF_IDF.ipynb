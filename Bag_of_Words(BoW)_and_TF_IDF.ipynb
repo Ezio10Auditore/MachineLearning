{
  "nbformat": 4,
  "nbformat_minor": 0,
  "metadata": {
    "kernelspec": {
      "display_name": "Python 3",
      "language": "python",
      "name": "python3"
    },
    "language_info": {
      "codemirror_mode": {
        "name": "ipython",
        "version": 3
      },
      "file_extension": ".py",
      "mimetype": "text/x-python",
      "name": "python",
      "nbconvert_exporter": "python",
      "pygments_lexer": "ipython3",
      "version": "3.8.3"
    },
    "colab": {
      "name": "Bag of Words(BoW) and TF-IDF.ipynb",
      "provenance": [],
      "include_colab_link": true
    }
  },
  "cells": [
    {
      "cell_type": "markdown",
      "metadata": {
        "id": "view-in-github",
        "colab_type": "text"
      },
      "source": [
        "<a href=\"https://colab.research.google.com/github/sahil301290/MachineLearning/blob/main/Bag_of_Words(BoW)_and_TF_IDF.ipynb\" target=\"_parent\"><img src=\"https://colab.research.google.com/assets/colab-badge.svg\" alt=\"Open In Colab\"/></a>"
      ]
    },
    {
      "cell_type": "markdown",
      "metadata": {
        "id": "azuEAPmxeIIs"
      },
      "source": [
        "#Agenda\n",
        "\n",
        "- Bag of Words\n",
        "\n",
        "- TF-IDF"
      ]
    },
    {
      "cell_type": "markdown",
      "metadata": {
        "id": "KFWZi0R3YJD4"
      },
      "source": [
        "# Implementing Bag of Words(BoW)\n",
        "Conversion of Text into Vectorize form"
      ]
    },
    {
      "cell_type": "code",
      "metadata": {
        "id": "IkvgLVGUYJEA"
      },
      "source": [
        "import pandas as pd"
      ],
      "execution_count": 1,
      "outputs": []
    },
    {
      "cell_type": "code",
      "metadata": {
        "id": "30u2AbonYJED"
      },
      "source": [
        "text = pd.read_excel('Text.xlsx')"
      ],
      "execution_count": 2,
      "outputs": []
    },
    {
      "cell_type": "code",
      "metadata": {
        "colab": {
          "base_uri": "https://localhost:8080/",
          "height": 141
        },
        "id": "zWhLAFn_YJEE",
        "outputId": "be6c0139-6031-4f58-c0f7-c1fbf84df44e"
      },
      "source": [
        "text.head()"
      ],
      "execution_count": 3,
      "outputs": [
        {
          "output_type": "execute_result",
          "data": {
            "text/html": [
              "<div>\n",
              "<style scoped>\n",
              "    .dataframe tbody tr th:only-of-type {\n",
              "        vertical-align: middle;\n",
              "    }\n",
              "\n",
              "    .dataframe tbody tr th {\n",
              "        vertical-align: top;\n",
              "    }\n",
              "\n",
              "    .dataframe thead th {\n",
              "        text-align: right;\n",
              "    }\n",
              "</style>\n",
              "<table border=\"1\" class=\"dataframe\">\n",
              "  <thead>\n",
              "    <tr style=\"text-align: right;\">\n",
              "      <th></th>\n",
              "      <th>Sentences</th>\n",
              "    </tr>\n",
              "  </thead>\n",
              "  <tbody>\n",
              "    <tr>\n",
              "      <th>0</th>\n",
              "      <td>Boys are good</td>\n",
              "    </tr>\n",
              "    <tr>\n",
              "      <th>1</th>\n",
              "      <td>Girls are good</td>\n",
              "    </tr>\n",
              "    <tr>\n",
              "      <th>2</th>\n",
              "      <td>Boys and girls are good</td>\n",
              "    </tr>\n",
              "  </tbody>\n",
              "</table>\n",
              "</div>"
            ],
            "text/plain": [
              "                 Sentences\n",
              "0            Boys are good\n",
              "1           Girls are good\n",
              "2  Boys and girls are good"
            ]
          },
          "metadata": {},
          "execution_count": 3
        }
      ]
    },
    {
      "cell_type": "code",
      "metadata": {
        "colab": {
          "base_uri": "https://localhost:8080/"
        },
        "id": "3LOkskzlYJEF",
        "outputId": "15698802-ef7d-4f67-e135-c7aee4c54ff3"
      },
      "source": [
        "text.shape"
      ],
      "execution_count": 4,
      "outputs": [
        {
          "output_type": "execute_result",
          "data": {
            "text/plain": [
              "(3, 1)"
            ]
          },
          "metadata": {},
          "execution_count": 4
        }
      ]
    },
    {
      "cell_type": "code",
      "metadata": {
        "colab": {
          "base_uri": "https://localhost:8080/"
        },
        "id": "0cRVBG2eYoSl",
        "outputId": "cb5ef74a-5b16-4285-f694-b93776af22b2"
      },
      "source": [
        "!pip install nltk"
      ],
      "execution_count": 5,
      "outputs": [
        {
          "output_type": "stream",
          "name": "stdout",
          "text": [
            "Requirement already satisfied: nltk in /usr/local/lib/python3.7/dist-packages (3.2.5)\n",
            "Requirement already satisfied: six in /usr/local/lib/python3.7/dist-packages (from nltk) (1.15.0)\n"
          ]
        }
      ]
    },
    {
      "cell_type": "code",
      "metadata": {
        "colab": {
          "base_uri": "https://localhost:8080/"
        },
        "id": "FNRRZZBDcOQu",
        "outputId": "9a150210-0c98-4c28-895b-c37a8d0b4723"
      },
      "source": [
        "import nltk\n",
        "nltk.download('stopwords')"
      ],
      "execution_count": 6,
      "outputs": [
        {
          "output_type": "stream",
          "name": "stdout",
          "text": [
            "[nltk_data] Downloading package stopwords to /root/nltk_data...\n",
            "[nltk_data]   Package stopwords is already up-to-date!\n"
          ]
        },
        {
          "output_type": "execute_result",
          "data": {
            "text/plain": [
              "True"
            ]
          },
          "metadata": {},
          "execution_count": 6
        }
      ]
    },
    {
      "cell_type": "code",
      "metadata": {
        "colab": {
          "base_uri": "https://localhost:8080/"
        },
        "id": "vLRT3RrhYJEG",
        "outputId": "dc9deb6b-0aed-4dc0-a788-02cccc41afcc"
      },
      "source": [
        "import re\n",
        "from nltk.corpus import stopwords\n",
        "### Dataset Preprocessing\n",
        "from nltk.stem.porter import PorterStemmer\n",
        "ps = PorterStemmer()\n",
        "corpus = []\n",
        "for i in range(0, len(text)):\n",
        "    print(i)\n",
        "    title = re.sub('[^a-zA-Z]', ' ', text['Sentences'][i])\n",
        "    title = title.lower()\n",
        "    title = title.split()\n",
        "    title = [ps.stem(word) for word in title if not word in stopwords.words('english')]\n",
        "    title = ' '.join(title)\n",
        "    corpus.append(title)"
      ],
      "execution_count": 7,
      "outputs": [
        {
          "output_type": "stream",
          "name": "stdout",
          "text": [
            "0\n",
            "1\n",
            "2\n"
          ]
        }
      ]
    },
    {
      "cell_type": "code",
      "metadata": {
        "colab": {
          "base_uri": "https://localhost:8080/"
        },
        "id": "pSe9bZ7QYJEH",
        "outputId": "448293c4-7e4c-4c27-b4fe-841ba5352713"
      },
      "source": [
        "corpus"
      ],
      "execution_count": 8,
      "outputs": [
        {
          "output_type": "execute_result",
          "data": {
            "text/plain": [
              "['boy good', 'girl good', 'boy girl good']"
            ]
          },
          "metadata": {},
          "execution_count": 8
        }
      ]
    },
    {
      "cell_type": "markdown",
      "metadata": {
        "id": "EHSHu7xTYJEH"
      },
      "source": [
        "# Creating the BoW(Bag of words)"
      ]
    },
    {
      "cell_type": "code",
      "metadata": {
        "colab": {
          "base_uri": "https://localhost:8080/"
        },
        "id": "rvDavmPQYJEI",
        "outputId": "82c7ae6a-2f5d-4eb5-d005-a35ae6aa0931"
      },
      "source": [
        "from sklearn.feature_extraction.text import CountVectorizer\n",
        "\n",
        "\n",
        "#Creating the bag of words\n",
        "bow_article = CountVectorizer().fit(corpus)\n",
        "\n",
        "count_tokens=bow_article.get_feature_names()\n",
        "\n",
        "article_vect = bow_article.transform(corpus)\n",
        "count_tokens"
      ],
      "execution_count": 9,
      "outputs": [
        {
          "output_type": "execute_result",
          "data": {
            "text/plain": [
              "['boy', 'girl', 'good']"
            ]
          },
          "metadata": {},
          "execution_count": 9
        }
      ]
    },
    {
      "cell_type": "code",
      "metadata": {
        "colab": {
          "base_uri": "https://localhost:8080/",
          "height": 141
        },
        "id": "DHk2n2RCYJEI",
        "outputId": "42046fb3-92b0-4a66-dc96-e4d85f701ccc"
      },
      "source": [
        "\n",
        "df_count_vect=pd.DataFrame(data=article_vect.toarray(),columns=count_tokens)\n",
        "df_count_vect"
      ],
      "execution_count": 10,
      "outputs": [
        {
          "output_type": "execute_result",
          "data": {
            "text/html": [
              "<div>\n",
              "<style scoped>\n",
              "    .dataframe tbody tr th:only-of-type {\n",
              "        vertical-align: middle;\n",
              "    }\n",
              "\n",
              "    .dataframe tbody tr th {\n",
              "        vertical-align: top;\n",
              "    }\n",
              "\n",
              "    .dataframe thead th {\n",
              "        text-align: right;\n",
              "    }\n",
              "</style>\n",
              "<table border=\"1\" class=\"dataframe\">\n",
              "  <thead>\n",
              "    <tr style=\"text-align: right;\">\n",
              "      <th></th>\n",
              "      <th>boy</th>\n",
              "      <th>girl</th>\n",
              "      <th>good</th>\n",
              "    </tr>\n",
              "  </thead>\n",
              "  <tbody>\n",
              "    <tr>\n",
              "      <th>0</th>\n",
              "      <td>1</td>\n",
              "      <td>0</td>\n",
              "      <td>1</td>\n",
              "    </tr>\n",
              "    <tr>\n",
              "      <th>1</th>\n",
              "      <td>0</td>\n",
              "      <td>1</td>\n",
              "      <td>1</td>\n",
              "    </tr>\n",
              "    <tr>\n",
              "      <th>2</th>\n",
              "      <td>1</td>\n",
              "      <td>1</td>\n",
              "      <td>1</td>\n",
              "    </tr>\n",
              "  </tbody>\n",
              "</table>\n",
              "</div>"
            ],
            "text/plain": [
              "   boy  girl  good\n",
              "0    1     0     1\n",
              "1    0     1     1\n",
              "2    1     1     1"
            ]
          },
          "metadata": {},
          "execution_count": 10
        }
      ]
    },
    {
      "cell_type": "markdown",
      "metadata": {
        "id": "lZuvsG7XdUnV"
      },
      "source": [
        "# Implementing TF-IDF"
      ]
    },
    {
      "cell_type": "code",
      "metadata": {
        "id": "bBzu4SswdZY6"
      },
      "source": [
        "from sklearn.feature_extraction.text import TfidfVectorizer\n",
        "\n",
        "tfidf=TfidfVectorizer().fit(corpus)"
      ],
      "execution_count": 11,
      "outputs": []
    },
    {
      "cell_type": "markdown",
      "metadata": {
        "id": "VgR0aMYFdfT3"
      },
      "source": [
        "##Extracting all features/tokens"
      ]
    },
    {
      "cell_type": "code",
      "metadata": {
        "colab": {
          "base_uri": "https://localhost:8080/"
        },
        "id": "A1ST0t4PddJi",
        "outputId": "09b8b778-524c-487b-abda-f8df09db5054"
      },
      "source": [
        "count_tokens=tfidf.get_feature_names()\n",
        "count_tokens"
      ],
      "execution_count": 12,
      "outputs": [
        {
          "output_type": "execute_result",
          "data": {
            "text/plain": [
              "['boy', 'girl', 'good']"
            ]
          },
          "metadata": {},
          "execution_count": 12
        }
      ]
    },
    {
      "cell_type": "markdown",
      "metadata": {
        "id": "G2nmMGThdqjc"
      },
      "source": [
        "## Transforming the corpus into Vector"
      ]
    },
    {
      "cell_type": "code",
      "metadata": {
        "id": "4Ndq3Z1DddHD"
      },
      "source": [
        "article_vect = tfidf.transform(corpus)"
      ],
      "execution_count": 13,
      "outputs": []
    },
    {
      "cell_type": "markdown",
      "metadata": {
        "id": "vxGZL55RdvCf"
      },
      "source": [
        "## Displaying the final Converted Vector with Features"
      ]
    },
    {
      "cell_type": "code",
      "metadata": {
        "colab": {
          "base_uri": "https://localhost:8080/",
          "height": 141
        },
        "id": "NCdNyTeqddE2",
        "outputId": "2fea9c40-5d74-4426-c060-2a4274693e19"
      },
      "source": [
        "df_tfidf_vect=pd.DataFrame(data=article_vect.toarray(),columns=count_tokens)\n",
        "df_tfidf_vect"
      ],
      "execution_count": 14,
      "outputs": [
        {
          "output_type": "execute_result",
          "data": {
            "text/html": [
              "<div>\n",
              "<style scoped>\n",
              "    .dataframe tbody tr th:only-of-type {\n",
              "        vertical-align: middle;\n",
              "    }\n",
              "\n",
              "    .dataframe tbody tr th {\n",
              "        vertical-align: top;\n",
              "    }\n",
              "\n",
              "    .dataframe thead th {\n",
              "        text-align: right;\n",
              "    }\n",
              "</style>\n",
              "<table border=\"1\" class=\"dataframe\">\n",
              "  <thead>\n",
              "    <tr style=\"text-align: right;\">\n",
              "      <th></th>\n",
              "      <th>boy</th>\n",
              "      <th>girl</th>\n",
              "      <th>good</th>\n",
              "    </tr>\n",
              "  </thead>\n",
              "  <tbody>\n",
              "    <tr>\n",
              "      <th>0</th>\n",
              "      <td>0.789807</td>\n",
              "      <td>0.000000</td>\n",
              "      <td>0.613356</td>\n",
              "    </tr>\n",
              "    <tr>\n",
              "      <th>1</th>\n",
              "      <td>0.000000</td>\n",
              "      <td>0.789807</td>\n",
              "      <td>0.613356</td>\n",
              "    </tr>\n",
              "    <tr>\n",
              "      <th>2</th>\n",
              "      <td>0.619805</td>\n",
              "      <td>0.619805</td>\n",
              "      <td>0.481334</td>\n",
              "    </tr>\n",
              "  </tbody>\n",
              "</table>\n",
              "</div>"
            ],
            "text/plain": [
              "        boy      girl      good\n",
              "0  0.789807  0.000000  0.613356\n",
              "1  0.000000  0.789807  0.613356\n",
              "2  0.619805  0.619805  0.481334"
            ]
          },
          "metadata": {},
          "execution_count": 14
        }
      ]
    },
    {
      "cell_type": "markdown",
      "metadata": {
        "id": "LyVeCbXdcecH"
      },
      "source": [
        "End of Code"
      ]
    }
  ]
}