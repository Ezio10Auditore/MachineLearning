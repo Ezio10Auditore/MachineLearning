{
  "nbformat": 4,
  "nbformat_minor": 0,
  "metadata": {
    "colab": {
      "name": "Naive Bayes Classifier.ipynb",
      "provenance": [],
      "authorship_tag": "ABX9TyOeNm/u0f10o8ROGumLquep",
      "include_colab_link": true
    },
    "kernelspec": {
      "name": "python3",
      "display_name": "Python 3"
    },
    "language_info": {
      "name": "python"
    }
  },
  "cells": [
    {
      "cell_type": "markdown",
      "metadata": {
        "id": "view-in-github",
        "colab_type": "text"
      },
      "source": [
        "<a href=\"https://colab.research.google.com/github/sahil301290/MachineLearning/blob/main/Naive_Bayes_Classifier.ipynb\" target=\"_parent\"><img src=\"https://colab.research.google.com/assets/colab-badge.svg\" alt=\"Open In Colab\"/></a>"
      ]
    },
    {
      "cell_type": "code",
      "metadata": {
        "id": "V7aoWe-2tGl-"
      },
      "source": [
        "import pandas as pd"
      ],
      "execution_count": 1,
      "outputs": []
    },
    {
      "cell_type": "markdown",
      "metadata": {
        "id": "kHajiDDOAIOB"
      },
      "source": [
        "Data Loading"
      ]
    },
    {
      "cell_type": "code",
      "metadata": {
        "id": "bqeNzSQyupbY",
        "colab": {
          "base_uri": "https://localhost:8080/",
          "height": 196
        },
        "outputId": "fb550d8f-718d-4ccf-a6ad-c30f723e72ac"
      },
      "source": [
        "df = pd.read_csv('weather.csv')\n",
        "df.head()"
      ],
      "execution_count": 2,
      "outputs": [
        {
          "output_type": "execute_result",
          "data": {
            "text/html": [
              "<div>\n",
              "<style scoped>\n",
              "    .dataframe tbody tr th:only-of-type {\n",
              "        vertical-align: middle;\n",
              "    }\n",
              "\n",
              "    .dataframe tbody tr th {\n",
              "        vertical-align: top;\n",
              "    }\n",
              "\n",
              "    .dataframe thead th {\n",
              "        text-align: right;\n",
              "    }\n",
              "</style>\n",
              "<table border=\"1\" class=\"dataframe\">\n",
              "  <thead>\n",
              "    <tr style=\"text-align: right;\">\n",
              "      <th></th>\n",
              "      <th>Outlook</th>\n",
              "      <th>Temp</th>\n",
              "      <th>Humidity</th>\n",
              "      <th>Windy</th>\n",
              "      <th>Play</th>\n",
              "    </tr>\n",
              "  </thead>\n",
              "  <tbody>\n",
              "    <tr>\n",
              "      <th>0</th>\n",
              "      <td>rainy</td>\n",
              "      <td>hot</td>\n",
              "      <td>high</td>\n",
              "      <td>0</td>\n",
              "      <td>0</td>\n",
              "    </tr>\n",
              "    <tr>\n",
              "      <th>1</th>\n",
              "      <td>rainy</td>\n",
              "      <td>hot</td>\n",
              "      <td>high</td>\n",
              "      <td>1</td>\n",
              "      <td>0</td>\n",
              "    </tr>\n",
              "    <tr>\n",
              "      <th>2</th>\n",
              "      <td>overcast</td>\n",
              "      <td>hot</td>\n",
              "      <td>high</td>\n",
              "      <td>0</td>\n",
              "      <td>1</td>\n",
              "    </tr>\n",
              "    <tr>\n",
              "      <th>3</th>\n",
              "      <td>sunny</td>\n",
              "      <td>mild</td>\n",
              "      <td>high</td>\n",
              "      <td>0</td>\n",
              "      <td>1</td>\n",
              "    </tr>\n",
              "    <tr>\n",
              "      <th>4</th>\n",
              "      <td>sunny</td>\n",
              "      <td>cool</td>\n",
              "      <td>normal</td>\n",
              "      <td>0</td>\n",
              "      <td>1</td>\n",
              "    </tr>\n",
              "  </tbody>\n",
              "</table>\n",
              "</div>"
            ],
            "text/plain": [
              "    Outlook  Temp Humidity  Windy  Play\n",
              "0     rainy   hot     high      0     0\n",
              "1     rainy   hot     high      1     0\n",
              "2  overcast   hot     high      0     1\n",
              "3     sunny  mild     high      0     1\n",
              "4     sunny  cool   normal      0     1"
            ]
          },
          "metadata": {
            "tags": []
          },
          "execution_count": 2
        }
      ]
    },
    {
      "cell_type": "code",
      "metadata": {
        "id": "Nl64CIvnuu6_",
        "colab": {
          "base_uri": "https://localhost:8080/",
          "height": 465
        },
        "outputId": "3dc93e17-2dd7-4787-9aa2-7df9ade277be"
      },
      "source": [
        "X_train = df.iloc[:,0:4]\n",
        "X_train"
      ],
      "execution_count": 3,
      "outputs": [
        {
          "output_type": "execute_result",
          "data": {
            "text/html": [
              "<div>\n",
              "<style scoped>\n",
              "    .dataframe tbody tr th:only-of-type {\n",
              "        vertical-align: middle;\n",
              "    }\n",
              "\n",
              "    .dataframe tbody tr th {\n",
              "        vertical-align: top;\n",
              "    }\n",
              "\n",
              "    .dataframe thead th {\n",
              "        text-align: right;\n",
              "    }\n",
              "</style>\n",
              "<table border=\"1\" class=\"dataframe\">\n",
              "  <thead>\n",
              "    <tr style=\"text-align: right;\">\n",
              "      <th></th>\n",
              "      <th>Outlook</th>\n",
              "      <th>Temp</th>\n",
              "      <th>Humidity</th>\n",
              "      <th>Windy</th>\n",
              "    </tr>\n",
              "  </thead>\n",
              "  <tbody>\n",
              "    <tr>\n",
              "      <th>0</th>\n",
              "      <td>rainy</td>\n",
              "      <td>hot</td>\n",
              "      <td>high</td>\n",
              "      <td>0</td>\n",
              "    </tr>\n",
              "    <tr>\n",
              "      <th>1</th>\n",
              "      <td>rainy</td>\n",
              "      <td>hot</td>\n",
              "      <td>high</td>\n",
              "      <td>1</td>\n",
              "    </tr>\n",
              "    <tr>\n",
              "      <th>2</th>\n",
              "      <td>overcast</td>\n",
              "      <td>hot</td>\n",
              "      <td>high</td>\n",
              "      <td>0</td>\n",
              "    </tr>\n",
              "    <tr>\n",
              "      <th>3</th>\n",
              "      <td>sunny</td>\n",
              "      <td>mild</td>\n",
              "      <td>high</td>\n",
              "      <td>0</td>\n",
              "    </tr>\n",
              "    <tr>\n",
              "      <th>4</th>\n",
              "      <td>sunny</td>\n",
              "      <td>cool</td>\n",
              "      <td>normal</td>\n",
              "      <td>0</td>\n",
              "    </tr>\n",
              "    <tr>\n",
              "      <th>5</th>\n",
              "      <td>sunny</td>\n",
              "      <td>cool</td>\n",
              "      <td>normal</td>\n",
              "      <td>1</td>\n",
              "    </tr>\n",
              "    <tr>\n",
              "      <th>6</th>\n",
              "      <td>overcast</td>\n",
              "      <td>cool</td>\n",
              "      <td>normal</td>\n",
              "      <td>1</td>\n",
              "    </tr>\n",
              "    <tr>\n",
              "      <th>7</th>\n",
              "      <td>rainy</td>\n",
              "      <td>mild</td>\n",
              "      <td>high</td>\n",
              "      <td>0</td>\n",
              "    </tr>\n",
              "    <tr>\n",
              "      <th>8</th>\n",
              "      <td>rainy</td>\n",
              "      <td>cool</td>\n",
              "      <td>normal</td>\n",
              "      <td>0</td>\n",
              "    </tr>\n",
              "    <tr>\n",
              "      <th>9</th>\n",
              "      <td>sunny</td>\n",
              "      <td>mild</td>\n",
              "      <td>normal</td>\n",
              "      <td>0</td>\n",
              "    </tr>\n",
              "    <tr>\n",
              "      <th>10</th>\n",
              "      <td>rainy</td>\n",
              "      <td>mild</td>\n",
              "      <td>normal</td>\n",
              "      <td>1</td>\n",
              "    </tr>\n",
              "    <tr>\n",
              "      <th>11</th>\n",
              "      <td>overcast</td>\n",
              "      <td>mild</td>\n",
              "      <td>high</td>\n",
              "      <td>1</td>\n",
              "    </tr>\n",
              "    <tr>\n",
              "      <th>12</th>\n",
              "      <td>overcast</td>\n",
              "      <td>hot</td>\n",
              "      <td>normal</td>\n",
              "      <td>0</td>\n",
              "    </tr>\n",
              "    <tr>\n",
              "      <th>13</th>\n",
              "      <td>sunny</td>\n",
              "      <td>mild</td>\n",
              "      <td>high</td>\n",
              "      <td>1</td>\n",
              "    </tr>\n",
              "  </tbody>\n",
              "</table>\n",
              "</div>"
            ],
            "text/plain": [
              "     Outlook  Temp Humidity  Windy\n",
              "0      rainy   hot     high      0\n",
              "1      rainy   hot     high      1\n",
              "2   overcast   hot     high      0\n",
              "3      sunny  mild     high      0\n",
              "4      sunny  cool   normal      0\n",
              "5      sunny  cool   normal      1\n",
              "6   overcast  cool   normal      1\n",
              "7      rainy  mild     high      0\n",
              "8      rainy  cool   normal      0\n",
              "9      sunny  mild   normal      0\n",
              "10     rainy  mild   normal      1\n",
              "11  overcast  mild     high      1\n",
              "12  overcast   hot   normal      0\n",
              "13     sunny  mild     high      1"
            ]
          },
          "metadata": {
            "tags": []
          },
          "execution_count": 3
        }
      ]
    },
    {
      "cell_type": "code",
      "metadata": {
        "id": "ulC7ea06u0Jc",
        "colab": {
          "base_uri": "https://localhost:8080/"
        },
        "outputId": "7c9ceb26-ef80-43fb-8e54-51c41d2171c9"
      },
      "source": [
        "y_train = df.iloc[:,4]\n",
        "y_train"
      ],
      "execution_count": 4,
      "outputs": [
        {
          "output_type": "execute_result",
          "data": {
            "text/plain": [
              "0     0\n",
              "1     0\n",
              "2     1\n",
              "3     1\n",
              "4     1\n",
              "5     0\n",
              "6     1\n",
              "7     0\n",
              "8     1\n",
              "9     1\n",
              "10    1\n",
              "11    1\n",
              "12    1\n",
              "13    0\n",
              "Name: Play, dtype: int64"
            ]
          },
          "metadata": {
            "tags": []
          },
          "execution_count": 4
        }
      ]
    },
    {
      "cell_type": "code",
      "metadata": {
        "id": "3HvOZA8Uu42H",
        "colab": {
          "base_uri": "https://localhost:8080/",
          "height": 107
        },
        "outputId": "8331e5bd-3420-4515-cdd8-1af1211074ca"
      },
      "source": [
        "df_test = pd.read_csv('weather_test.csv')\n",
        "df_test"
      ],
      "execution_count": 5,
      "outputs": [
        {
          "output_type": "execute_result",
          "data": {
            "text/html": [
              "<div>\n",
              "<style scoped>\n",
              "    .dataframe tbody tr th:only-of-type {\n",
              "        vertical-align: middle;\n",
              "    }\n",
              "\n",
              "    .dataframe tbody tr th {\n",
              "        vertical-align: top;\n",
              "    }\n",
              "\n",
              "    .dataframe thead th {\n",
              "        text-align: right;\n",
              "    }\n",
              "</style>\n",
              "<table border=\"1\" class=\"dataframe\">\n",
              "  <thead>\n",
              "    <tr style=\"text-align: right;\">\n",
              "      <th></th>\n",
              "      <th>Outlook</th>\n",
              "      <th>Temp</th>\n",
              "      <th>Humidity</th>\n",
              "      <th>Windy</th>\n",
              "      <th>Play</th>\n",
              "    </tr>\n",
              "  </thead>\n",
              "  <tbody>\n",
              "    <tr>\n",
              "      <th>0</th>\n",
              "      <td>rainy</td>\n",
              "      <td>cool</td>\n",
              "      <td>high</td>\n",
              "      <td>1</td>\n",
              "      <td>0</td>\n",
              "    </tr>\n",
              "    <tr>\n",
              "      <th>1</th>\n",
              "      <td>overcast</td>\n",
              "      <td>mild</td>\n",
              "      <td>normal</td>\n",
              "      <td>0</td>\n",
              "      <td>1</td>\n",
              "    </tr>\n",
              "  </tbody>\n",
              "</table>\n",
              "</div>"
            ],
            "text/plain": [
              "    Outlook  Temp Humidity  Windy  Play\n",
              "0     rainy  cool     high      1     0\n",
              "1  overcast  mild   normal      0     1"
            ]
          },
          "metadata": {
            "tags": []
          },
          "execution_count": 5
        }
      ]
    },
    {
      "cell_type": "code",
      "metadata": {
        "id": "X7HqF8l5vYGQ",
        "colab": {
          "base_uri": "https://localhost:8080/",
          "height": 107
        },
        "outputId": "1d1c9159-5f37-41e5-eeb5-359c02d7d911"
      },
      "source": [
        "X_test = df_test.iloc[:,0:4]\n",
        "X_test"
      ],
      "execution_count": 6,
      "outputs": [
        {
          "output_type": "execute_result",
          "data": {
            "text/html": [
              "<div>\n",
              "<style scoped>\n",
              "    .dataframe tbody tr th:only-of-type {\n",
              "        vertical-align: middle;\n",
              "    }\n",
              "\n",
              "    .dataframe tbody tr th {\n",
              "        vertical-align: top;\n",
              "    }\n",
              "\n",
              "    .dataframe thead th {\n",
              "        text-align: right;\n",
              "    }\n",
              "</style>\n",
              "<table border=\"1\" class=\"dataframe\">\n",
              "  <thead>\n",
              "    <tr style=\"text-align: right;\">\n",
              "      <th></th>\n",
              "      <th>Outlook</th>\n",
              "      <th>Temp</th>\n",
              "      <th>Humidity</th>\n",
              "      <th>Windy</th>\n",
              "    </tr>\n",
              "  </thead>\n",
              "  <tbody>\n",
              "    <tr>\n",
              "      <th>0</th>\n",
              "      <td>rainy</td>\n",
              "      <td>cool</td>\n",
              "      <td>high</td>\n",
              "      <td>1</td>\n",
              "    </tr>\n",
              "    <tr>\n",
              "      <th>1</th>\n",
              "      <td>overcast</td>\n",
              "      <td>mild</td>\n",
              "      <td>normal</td>\n",
              "      <td>0</td>\n",
              "    </tr>\n",
              "  </tbody>\n",
              "</table>\n",
              "</div>"
            ],
            "text/plain": [
              "    Outlook  Temp Humidity  Windy\n",
              "0     rainy  cool     high      1\n",
              "1  overcast  mild   normal      0"
            ]
          },
          "metadata": {
            "tags": []
          },
          "execution_count": 6
        }
      ]
    },
    {
      "cell_type": "code",
      "metadata": {
        "id": "-iO5ZfL6vl14",
        "colab": {
          "base_uri": "https://localhost:8080/"
        },
        "outputId": "a809a28b-2bbc-4391-cec5-d685013a3350"
      },
      "source": [
        "y_test = df_test.iloc[:,4]\n",
        "y_test"
      ],
      "execution_count": 7,
      "outputs": [
        {
          "output_type": "execute_result",
          "data": {
            "text/plain": [
              "0    0\n",
              "1    1\n",
              "Name: Play, dtype: int64"
            ]
          },
          "metadata": {
            "tags": []
          },
          "execution_count": 7
        }
      ]
    },
    {
      "cell_type": "markdown",
      "metadata": {
        "id": "CmKj7T7W8hbI"
      },
      "source": [
        "Prior Probability"
      ]
    },
    {
      "cell_type": "code",
      "metadata": {
        "id": "lOXW2Gh8vr4n",
        "colab": {
          "base_uri": "https://localhost:8080/"
        },
        "outputId": "ceeb61d0-bd60-4a0b-dac7-3e6fb69e4f95"
      },
      "source": [
        "import numpy as np\n",
        "train_size=X_train.shape[0]\n",
        "class_priors={}\n",
        "for outcome in np.unique(y_train):\n",
        "    outcome_count = sum(y_train == outcome)    \n",
        "    class_priors[outcome] = outcome_count / train_size\n",
        "print(class_priors)"
      ],
      "execution_count": 8,
      "outputs": [
        {
          "output_type": "stream",
          "text": [
            "{0: 0.35714285714285715, 1: 0.6428571428571429}\n"
          ],
          "name": "stdout"
        }
      ]
    },
    {
      "cell_type": "markdown",
      "metadata": {
        "id": "IhgBm1Zh8l87"
      },
      "source": [
        "Computing Likelihood"
      ]
    },
    {
      "cell_type": "code",
      "metadata": {
        "id": "UKpPT9l08ZId"
      },
      "source": [
        "features=list(X_train.columns)\n",
        "likelihoods={}\n",
        "for outcome in np.unique(y_train):\n",
        "    outcome_count = sum(y_train == outcome)\n",
        "    for feature in features:\n",
        "        for feat_value in np.unique(X_train[feature]):\n",
        "            count=0\n",
        "            for i in range(len(X_train)):\n",
        "                if(X_train[feature][i]==feat_value and y_train[i]==outcome):\n",
        "                    count=count+1\n",
        "            likelihoods[(feature,feat_value,outcome)]=(count+1)/(outcome_count+(len(features)))\n"
      ],
      "execution_count": 9,
      "outputs": []
    },
    {
      "cell_type": "code",
      "metadata": {
        "id": "zf_Tc1Nt8scC",
        "colab": {
          "base_uri": "https://localhost:8080/"
        },
        "outputId": "472b9f91-89f2-4408-c66f-053940102c66"
      },
      "source": [
        "likelihoods"
      ],
      "execution_count": 10,
      "outputs": [
        {
          "output_type": "execute_result",
          "data": {
            "text/plain": [
              "{('Humidity', 'high', 0): 0.5555555555555556,\n",
              " ('Humidity', 'high', 1): 0.3076923076923077,\n",
              " ('Humidity', 'normal', 0): 0.2222222222222222,\n",
              " ('Humidity', 'normal', 1): 0.5384615384615384,\n",
              " ('Outlook', 'overcast', 0): 0.1111111111111111,\n",
              " ('Outlook', 'overcast', 1): 0.38461538461538464,\n",
              " ('Outlook', 'rainy', 0): 0.4444444444444444,\n",
              " ('Outlook', 'rainy', 1): 0.23076923076923078,\n",
              " ('Outlook', 'sunny', 0): 0.3333333333333333,\n",
              " ('Outlook', 'sunny', 1): 0.3076923076923077,\n",
              " ('Temp', 'cool', 0): 0.2222222222222222,\n",
              " ('Temp', 'cool', 1): 0.3076923076923077,\n",
              " ('Temp', 'hot', 0): 0.3333333333333333,\n",
              " ('Temp', 'hot', 1): 0.23076923076923078,\n",
              " ('Temp', 'mild', 0): 0.3333333333333333,\n",
              " ('Temp', 'mild', 1): 0.38461538461538464,\n",
              " ('Windy', 0, 0): 0.3333333333333333,\n",
              " ('Windy', 0, 1): 0.5384615384615384,\n",
              " ('Windy', 1, 0): 0.4444444444444444,\n",
              " ('Windy', 1, 1): 0.3076923076923077}"
            ]
          },
          "metadata": {
            "tags": []
          },
          "execution_count": 10
        }
      ]
    },
    {
      "cell_type": "markdown",
      "metadata": {
        "id": "Gsq320J88_6T"
      },
      "source": [
        "Prediction for Test Dataset"
      ]
    },
    {
      "cell_type": "code",
      "metadata": {
        "id": "5TLHU9pX8wDO",
        "colab": {
          "base_uri": "https://localhost:8080/"
        },
        "outputId": "9d918a32-38cc-4e8c-df3c-fe402621b009"
      },
      "source": [
        "a=len(np.unique(y_train))\n",
        "a"
      ],
      "execution_count": 11,
      "outputs": [
        {
          "output_type": "execute_result",
          "data": {
            "text/plain": [
              "2"
            ]
          },
          "metadata": {
            "tags": []
          },
          "execution_count": 11
        }
      ]
    },
    {
      "cell_type": "code",
      "metadata": {
        "id": "AqH5i33E9xYN",
        "colab": {
          "base_uri": "https://localhost:8080/"
        },
        "outputId": "ed9e0fb6-a380-4796-fb59-22675cc0e7a3"
      },
      "source": [
        "prob=np.ones((a,len(X_test)),dtype=np.float)\n",
        "prob"
      ],
      "execution_count": 12,
      "outputs": [
        {
          "output_type": "execute_result",
          "data": {
            "text/plain": [
              "array([[1., 1.],\n",
              "       [1., 1.]])"
            ]
          },
          "metadata": {
            "tags": []
          },
          "execution_count": 12
        }
      ]
    },
    {
      "cell_type": "code",
      "metadata": {
        "id": "P1TJXFY7-AfH"
      },
      "source": [
        "for outcome in(np.unique(y_train)):\n",
        "    outcome_count = sum(y_train == outcome)\n",
        "    for feature in features:\n",
        "        for i in range(len(X_test)):\n",
        "            if  (feature,X_test[feature][i],outcome) in likelihoods.keys():\n",
        "                prob[outcome][i]=prob[outcome][i]*likelihoods[(feature,X_test[feature][i],outcome)]\n",
        "            else:\n",
        "                prob[outcome][i]=prob[outcome][i]*(1/(outcome_count+len(features)))"
      ],
      "execution_count": 13,
      "outputs": []
    },
    {
      "cell_type": "markdown",
      "metadata": {
        "id": "uzTwXpnz-do8"
      },
      "source": [
        "Multiplying probabilities with class prior probabilities"
      ]
    },
    {
      "cell_type": "code",
      "metadata": {
        "id": "iq7edHlv9Uig"
      },
      "source": [
        "for i in range(prob.shape[0]):\n",
        "    prob[i][:]=prob[i][:]*class_priors[i]"
      ],
      "execution_count": 14,
      "outputs": []
    },
    {
      "cell_type": "markdown",
      "metadata": {
        "id": "3LVNKrwt-lSm"
      },
      "source": [
        "Predict the labels"
      ]
    },
    {
      "cell_type": "code",
      "metadata": {
        "id": "Pf0hTDBI-irH"
      },
      "source": [
        "Y_label=np.zeros(len(y_test))\n",
        "for i in range(len(X_test)):\n",
        "    if (prob[1,i]>=prob[0,i]):\n",
        "        Y_label[i]=1"
      ],
      "execution_count": 15,
      "outputs": []
    },
    {
      "cell_type": "markdown",
      "metadata": {
        "id": "nTUG-pxm-272"
      },
      "source": [
        "Performance Evaluation"
      ]
    },
    {
      "cell_type": "code",
      "metadata": {
        "colab": {
          "base_uri": "https://localhost:8080/"
        },
        "id": "i1XAKEcp-siC",
        "outputId": "45407eba-e493-4fe0-8f07-b078672e1bc8"
      },
      "source": [
        "from sklearn import metrics\n",
        "print(metrics.classification_report(y_test,Y_label))\n",
        "print(metrics.confusion_matrix(y_test,Y_label))"
      ],
      "execution_count": 16,
      "outputs": [
        {
          "output_type": "stream",
          "text": [
            "              precision    recall  f1-score   support\n",
            "\n",
            "           0       1.00      1.00      1.00         1\n",
            "           1       1.00      1.00      1.00         1\n",
            "\n",
            "    accuracy                           1.00         2\n",
            "   macro avg       1.00      1.00      1.00         2\n",
            "weighted avg       1.00      1.00      1.00         2\n",
            "\n",
            "[[1 0]\n",
            " [0 1]]\n"
          ],
          "name": "stdout"
        }
      ]
    }
  ]
}